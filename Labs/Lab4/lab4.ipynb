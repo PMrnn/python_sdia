{
 "cells": [
  {
   "cell_type": "markdown",
   "metadata": {},
   "source": [
    "# Practical session 4 - K-nearest neighbours (K-NN) classification with numpy, scikit-learn, cython and numba\n",
    "\n",
    "Students (pair):\n",
    "- [Pierre Mauron]([link](https://github.com/Pmrnn))\n",
    "- [Victor Calamy]([link](https://github.com/victor-calamy))"
   ]
  },
  {
   "cell_type": "markdown",
   "metadata": {},
   "source": [
    "**Useful references for this lab**:\n",
    "\n",
    "[1] scikit-learn: [documentation](https://scikit-learn.org/stable/modules/neighbors.html?highlight=knn%20classification)\n",
    "\n",
    "[2] `numba`: [documentation](http://numba.pydata.org/) \n",
    "\n",
    "[3] cython: [a very useful tutorial](https://cython.readthedocs.io/en/latest/src/userguide/numpy_tutorial.html#numpy-tutorial), and [another one](http://docs.cython.org/en/latest/src/tutorial/cython_tutorial.html)\n",
    "\n",
    "\n",
    "\n",
    "## <a name=\"content\">Contents</a>\n",
    "- [Exercise 1: KNN classification with numpy and sklearn](#ex1)\n",
    "- [Exercise 2: Code acceleration with cython](#ex2)\n",
    "- [Exercise 3: Code acceleration with numba](#ex3)\n",
    "---"
   ]
  },
  {
   "cell_type": "code",
   "execution_count": 10,
   "metadata": {},
   "outputs": [
    {
     "name": "stdout",
     "output_type": "stream",
     "text": [
      "The autoreload extension is already loaded. To reload it, use:\n",
      "  %reload_ext autoreload\n"
     ]
    }
   ],
   "source": [
    "%load_ext autoreload\n",
    "%autoreload 2\n",
    "import numpy as np\n",
    "import matplotlib.pyplot as plt\n",
    "from sklearn.neighbors import KNeighborsClassifier\n",
    "import timeit\n",
    "from sklearn.model_selection import train_test_split\n",
    "import bottleneck as bn"
   ]
  },
  {
   "cell_type": "markdown",
   "metadata": {},
   "source": [
    "## <a name=\"ex1\">Exercise 1: K-Nearest Neighbours (K-NN) classification with numpy and scikit-learn</a> [(&#8593;)](#content)"
   ]
  },
  {
   "cell_type": "markdown",
   "metadata": {},
   "source": [
    "This session is a first introduction to classification using the most intuitive non parametric method: the $K$-nearest neighbours. The principle is [the following](https://scikit-learn.org/stable/modules/neighbors.html?highlight=knn%20classification). A set of labelled observations is given as a learning set. A classification taks then consists in assigning a label to any new observation. In particular, the K-NN approach consists in assigning to the observation the most frequent label among its $K$ nearest neighbours taken in the training set."
   ]
  },
  {
   "cell_type": "markdown",
   "metadata": {},
   "source": [
    "### A. Validation on synthetic data\n",
    "\n",
    "Load the training and test datasets `data/synth_train.txt` and `data/synth_test.txt`. Targets belong to the set $\\{1,2\\}$ and entries belong to $\\mathbb{R}^2$. The file `data/synth_train.txt` contain 100 training data samples, and `data/synth_test.txt` contains 200 test samples, where:\n",
    "\n",
    "- the 1st column contains the label of the class the sample;\n",
    "- columns 2 & 3 contain the coordinates of each sample (in $\\mathbb{R}^2$).\n",
    "\n",
    "Useful commands can be found below."
   ]
  },
  {
   "cell_type": "markdown",
   "metadata": {},
   "source": [
    "```python\n",
    "# load the training set\n",
    "train = np.loadtxt('data/synth_train.txt')  #...,delimiter=',') if there are ',' as delimiters\n",
    "class_train = train[:,0]\n",
    "x_train = train[:,1:]\n",
    "N_train = train.shape[0]\n",
    "```"
   ]
  },
  {
   "cell_type": "markdown",
   "metadata": {},
   "source": [
    "```python\n",
    "# load the test set\n",
    "test = np.loadtxt('/datasynth_test.txt') \n",
    "class_test_1 = test[test[:,0]==1]\n",
    "class_test_2 = test[test[:,0]==2]\n",
    "x_test = test[:,1:]\n",
    "N_test = test.shape[0]\n",
    "```"
   ]
  },
  {
   "cell_type": "markdown",
   "metadata": {},
   "source": [
    "1\\. Display the training set and distinguish the two classes. \n",
    "\n",
    "> Hint: useful functions include `matplotlib.pyplot.scatter` or `matplotlib.pyplot.plot`."
   ]
  },
  {
   "cell_type": "markdown",
   "metadata": {},
   "source": [
    "**Answer:**"
   ]
  },
  {
   "cell_type": "code",
   "execution_count": 58,
   "metadata": {},
   "outputs": [],
   "source": [
    "# your code\n",
    "train = np.loadtxt('data/synth_train.txt')  #...,delimiter=',') if there are ',' as delimiters\n",
    "class_train = train[:,0]\n",
    "x_train = train[:,1:]\n",
    "N_train = train.shape[0]\n",
    "\n",
    "test = np.loadtxt('data/synth_test.txt') \n",
    "class_test_1 = test[test[:,0]==1]\n",
    "class_test_2 = test[test[:,0]==2]\n",
    "x_test = test[:,1:]\n",
    "N_test = test.shape[0]"
   ]
  },
  {
   "cell_type": "code",
   "execution_count": 3,
   "metadata": {},
   "outputs": [
    {
     "data": {
      "text/plain": [
       "<matplotlib.collections.PathCollection at 0x1b3b5c57b20>"
      ]
     },
     "execution_count": 3,
     "metadata": {},
     "output_type": "execute_result"
    },
    {
     "data": {
      "image/png": "[encoded data removed]",
      "text/plain": [
       "<Figure size 432x288 with 1 Axes>"
      ]
     },
     "metadata": {
      "needs_background": "light"
     },
     "output_type": "display_data"
    }
   ],
   "source": [
    "plt.scatter(train[np.where(train[:,0]==1)][:,1],train[np.where(train[:,0]==1)][:,2], c='b')\n",
    "plt.scatter(train[np.where(train[:,0]==2)][:,1],train[np.where(train[:,0]==2)][:,2], c='r')"
   ]
  },
  {
   "cell_type": "markdown",
   "metadata": {},
   "source": [
    "2\\. Implement the K-nearest neighbours algorithm for classification.\n",
    "\n",
    "> Hint: \n",
    "> - useful functions include `numpy.linalg.norm`, `numpy.argsort`, `numpy.bincount`;\n",
    "> - implement the algorithm as a function rather than an object. This will drastically simplify the acceleration step using Cython.\n",
    "> - for an optimized partial sorting procedure, you may have a look at the [`bottleneck.argpartition` function](https://bottleneck.readthedocs.io/en/latest/reference.html#bottleneck.argpartition)."
   ]
  },
  {
   "cell_type": "markdown",
   "metadata": {},
   "source": [
    "**Answer:**"
   ]
  },
  {
   "cell_type": "code",
   "execution_count": 43,
   "metadata": {},
   "outputs": [],
   "source": [
    "def classifier_KNN(liste_pts,new_pt,K):\n",
    "    mat_dist = []\n",
    "    for pt in liste_pts:\n",
    "        mat_dist.append(np.linalg.norm(pt[1:]-new_pt))\n",
    "    mat_dist = np.array(mat_dist)\n",
    "    indexs = bn.argpartition(mat_dist,K)[:K]\n",
    "    res  = np.mean(liste_pts[indexs][:,0])\n",
    "    return(int(res + 0.5))\n",
    "\n",
    "classifier_KNN_2(train,test[9,1:],10)\n",
    "        "
   ]
  },
  {
   "cell_type": "markdown",
   "metadata": {},
   "source": [
    "3\\. Compute the error rate on the training set and the test set for $K \\in \\{1,2, \\dotsc, 20\\}$. Display the classification result (see 1.) for the configuration with the lowest error rate."
   ]
  },
  {
   "cell_type": "markdown",
   "metadata": {},
   "source": [
    "**Answer:**"
   ]
  },
  {
   "cell_type": "code",
   "execution_count": 66,
   "metadata": {},
   "outputs": [
    {
     "ename": "SyntaxError",
     "evalue": "'return' outside function (772091946.py, line 29)",
     "output_type": "error",
     "traceback": [
      "\u001b[1;36m  File \u001b[1;32m\"C:\\Users\\vcalamy\\AppData\\Local\\Temp\\ipykernel_16264\\772091946.py\"\u001b[1;36m, line \u001b[1;32m29\u001b[0m\n\u001b[1;33m    return\u001b[0m\n\u001b[1;37m    ^\u001b[0m\n\u001b[1;31mSyntaxError\u001b[0m\u001b[1;31m:\u001b[0m 'return' outside function\n"
     ]
    }
   ],
   "source": [
    "\"\"\"error_train = []\n",
    "error_test = []\n",
    "for K in range (1,21) :\n",
    "    error_train_K = 0\n",
    "    error_test_K = 0\n",
    "    preds = []\n",
    "    for i in range(N_train):\n",
    "        error_train_K += np.abs(classifier_KNN(train, train[i,1:], K) - class_train[i])\n",
    "    error_train.append(error_train_K/N_train)\n",
    "    for i in range (N_test):\n",
    "        preds.append(classifier_KNN(train, test[i,1:], K))\n",
    "        error_test_K += np.abs(preds[i] - test[i,0])\n",
    "    error_test.append(error_test_K/N_test)\"\"\"\n",
    "\n",
    "error_train = []\n",
    "error_test = []\n",
    "\n",
    "for K in range (1,21):\n",
    "    err_train = 0\n",
    "    err_test = 0\n",
    "    for pt in train : \n",
    "        err_train += np.abs( classifier_KNN( train,pt[1:],K) - pt[0])\n",
    "\n",
    "    for pt in test :\n",
    "        err_test += np.abs( classifier_KNN( train,pt[1:],K) - pt[0])\n",
    "\n",
    "    error_train.append(err_train/len(train))\n",
    "    error_test.append(err_test/len(test))\n",
    "\n",
    "\n",
    "\n"
   ]
  },
  {
   "cell_type": "code",
   "execution_count": 53,
   "metadata": {},
   "outputs": [
    {
     "data": {
      "text/plain": [
       "[<matplotlib.lines.Line2D at 0x1b3b60bf970>]"
      ]
     },
     "execution_count": 53,
     "metadata": {},
     "output_type": "execute_result"
    },
    {
     "data": {
      "image/png": "[encoded data removed]",
      "text/plain": [
       "<Figure size 432x288 with 1 Axes>"
      ]
     },
     "metadata": {
      "needs_background": "light"
     },
     "output_type": "display_data"
    }
   ],
   "source": [
    "plt.plot([i for i in range(1,21)], error_train, c='b')\n",
    "plt.plot([i for i in range(1,21)], error_test, c='r')"
   ]
  },
  {
   "cell_type": "code",
   "execution_count": 55,
   "metadata": {},
   "outputs": [
    {
     "name": "stdout",
     "output_type": "stream",
     "text": [
      "erreur de test : [0.065, 0.09, 0.045, 0.075, 0.06, 0.075, 0.07, 0.08, 0.075, 0.09, 0.09, 0.09, 0.08, 0.08, 0.075, 0.085, 0.08, 0.09, 0.08, 0.105]\n",
      "erreur de train : [0.0, 0.04, 0.03, 0.07, 0.05, 0.08, 0.06, 0.08, 0.06, 0.08, 0.07, 0.09, 0.08, 0.09, 0.08, 0.08, 0.08, 0.1, 0.08, 0.09]\n"
     ]
    }
   ],
   "source": [
    "print(\"erreur de test : \"  + str(error_test))\n",
    "print(\"erreur de train : \"  + str(error_train))"
   ]
  },
  {
   "cell_type": "markdown",
   "metadata": {},
   "source": [
    "4\\. Comment on your results. Which value of $K$ seems optimal ?\n"
   ]
  },
  {
   "cell_type": "markdown",
   "metadata": {},
   "source": [
    "**Answer:**"
   ]
  },
  {
   "cell_type": "markdown",
   "metadata": {},
   "source": [
    "* Dans un premier temps, on regarde la courbe d'erreur sur le jeu d'entrainemnt. L'erreur est évidement minimale pour K=1 car dans la construction de notre algorithme, le plus proche voisin d'un point du jeu de train est lui même. <br><br>\n",
    "* La deuxième meilleure valeure est atteinte pour K = 3 et c'est la même chose pour le jeu de test.<br>\n",
    "En regardant le jeu de données, on voit bien que les 2 classes sont séparées quasi linéairement. Cela veut dire que pour n'importe quel point \"assez loin\" de la frontière, il suffit de regarder un nombre faible de voisins pour trouver sa classe. Un K assez petit est donc suffisant. Maintenat, pour les points proches de la frontière, il faut que K ne soit pas trop grand pour ne pas être influencé par l'autre classe.<br>\n",
    "Le résultat K=3 nous paraît donc assez cohérent. "
   ]
  },
  {
   "cell_type": "markdown",
   "metadata": {},
   "source": [
    "5\\. Compare the results of you implementation with those of [`sklearn.neighbors.KNeighborsClassifier`](https://scikit-learn.org/stable/modules/generated/sklearn.neighbors.KNeighborsClassifier.html?highlight=kneighborsclassifier#sklearn.neighbors.KNeighborsClassifier). Compare the runtime of these two versions using the [`timeit`](https://docs.python.org/3/library/timeit.html) module (see session 1)."
   ]
  },
  {
   "cell_type": "markdown",
   "metadata": {},
   "source": [
    "**Answer:**"
   ]
  },
  {
   "cell_type": "code",
   "execution_count": null,
   "metadata": {},
   "outputs": [],
   "source": [
    "###TimeIT\n",
    "def sklearn_KNN():\n",
    "    error_test_sklearn =  []\n",
    "    for K in range (1,21):\n",
    "        neigh = KNeighborsClassifier(K)\n",
    "        neigh.fit(x_train, class_train)\n",
    "        error_test_sklearn.append(np.sum(np.abs(test[:,0]-neigh.predict(x_test)))/N_test)\n",
    "print(error_test_sklearn)"
   ]
  },
  {
   "cell_type": "code",
   "execution_count": 69,
   "metadata": {},
   "outputs": [],
   "source": [
    "###TimeIT\n",
    "def our_method():\n",
    "    \n",
    "    \"\"\"Comme notre méthode initiale calcule également l'erreur sur le jeu de train, nous avons créé\n",
    "    cette fonctions afin de comparer les temps d'exécutions de choses similaires\"\"\"\n",
    "    for K in range (1,21):\n",
    "        err_test = 0\n",
    "\n",
    "        for pt in test :\n",
    "            err_test += np.abs( classifier_KNN( train,pt[1:],K) - pt[0])\n",
    "\n",
    "        error_test.append(err_test/len(test))"
   ]
  },
  {
   "cell_type": "markdown",
   "metadata": {},
   "source": [
    "On obtient les mêmes résultats avec notre méthode qu'avec la méthode de sklearn. Intererssons nous au temps d'exécution :"
   ]
  },
  {
   "cell_type": "code",
   "execution_count": 65,
   "metadata": {},
   "outputs": [
    {
     "name": "stdout",
     "output_type": "stream",
     "text": [
      "98.4 ms ± 2.19 ms per loop (mean ± std. dev. of 7 runs, 10 loops each)\n"
     ]
    }
   ],
   "source": [
    "%timeit sklearn_KNN()"
   ]
  },
  {
   "cell_type": "code",
   "execution_count": 70,
   "metadata": {},
   "outputs": [
    {
     "name": "stdout",
     "output_type": "stream",
     "text": [
      "1.8 s ± 13.3 ms per loop (mean ± std. dev. of 7 runs, 1 loop each)\n"
     ]
    }
   ],
   "source": [
    "%timeit our_method()"
   ]
  },
  {
   "cell_type": "markdown",
   "metadata": {},
   "source": [
    "On voit que la méthode de de sklearn est vraiment plus efficace que celle que l'on a codé à la main."
   ]
  },
  {
   "cell_type": "markdown",
   "metadata": {},
   "source": [
    "### B. Application to a real dataset (Breast cancer Wisconsin).\n",
    "\n",
    "6\\. Apply the K-NN classifier to the real dataset `data/wdbc12.data.txt.` Further details about the data are provided in `data/wdbc12.names.txt`.\n",
    "\n",
    "> Hint: you can use the function [`train_test_split` from `sklearn.model_selection`](https://scikit-learn.org/stable/modules/generated/sklearn.model_selection.train_test_split.html) to split the dataset into a training and a test set."
   ]
  },
  {
   "cell_type": "markdown",
   "metadata": {},
   "source": [
    "**Answer:**"
   ]
  },
  {
   "cell_type": "code",
   "execution_count": 86,
   "metadata": {},
   "outputs": [],
   "source": [
    "data = np.loadtxt('data/wdbc12.data.txt' ,delimiter=',')\n",
    "data = data[:,1:]\n",
    "train, test = train_test_split(data, test_size=0.2, random_state=0)\n"
   ]
  },
  {
   "cell_type": "code",
   "execution_count": 87,
   "metadata": {},
   "outputs": [
    {
     "name": "stdout",
     "output_type": "stream",
     "text": [
      "114\n",
      "0.08771929824561403\n"
     ]
    }
   ],
   "source": [
    "\n",
    "err_test = 0\n",
    "for pt in test2 :\n",
    "    err_test += np.abs( classifier_KNN(train,pt[1:],3) - pt[0])\n",
    "    \n",
    "print(err_test/len(test))\n",
    "#error_test.append(err_test/len(test))"
   ]
  },
  {
   "cell_type": "markdown",
   "metadata": {},
   "source": [
    "On a donc une erreur environ 2 fois plus grande. Cela reste très correct vu que la dimension du problème passe de 2 à 32 "
   ]
  },
  {
   "cell_type": "markdown",
   "metadata": {},
   "source": [
    "## <a name=\"ex2\">Exercise 2: Code acceleration with cython</a> [(&#8593;)](#content)\n",
    "\n",
    "Cython allows C code to be easily interfaced with Python. It can be useful to make your code faster for a small coding effort, in particular when using loops. A general approach to optimize your code is outlined in the [Scipy lecture notes, Section 2.4](https://scipy-lectures.org/advanced/optimizing/index.html). Complementary reading about interfacing Python with C can be found in [Section 2.8](https://scipy-lectures.org/advanced/interfacing_with_c/interfacing_with_c.html).\n",
    "\n",
    "1\\. Read carefully the [cython tutorial](http://docs.cython.org/en/latest/src/tutorial/cython_tutorial.html), which describes step by the step how the toy example reported below has been developed."
   ]
  },
  {
   "cell_type": "markdown",
   "metadata": {},
   "source": [
    "**Setup**: Compile the toy example provided in `example_cy/` by running, in the command line (anaconda prompt on windows)"
   ]
  },
  {
   "cell_type": "markdown",
   "metadata": {},
   "source": [
    "```bash\n",
    "cd example_cy && python setup.py build_ext --inplace\n",
    "```"
   ]
  },
  {
   "cell_type": "markdown",
   "metadata": {},
   "source": [
    "Note that the compilation process has been slightly automatised with the instructions reported in `example_cy/setup.py`. To test the module, run"
   ]
  },
  {
   "cell_type": "code",
   "execution_count": 130,
   "metadata": {},
   "outputs": [
    {
     "name": "stdout",
     "output_type": "stream",
     "text": [
      "running build_ext\n",
      "copying build\\lib.win-amd64-cpython-39\\example_cy\\helloworld.cp39-win_amd64.pyd -> example_cy\n"
     ]
    },
    {
     "name": "stderr",
     "output_type": "stream",
     "text": [
      "error: could not create 'example_cy\\helloworld.cp39-win_amd64.pyd': No such file or directory\n"
     ]
    }
   ],
   "source": [
    "!cd example_cy && python setup.py build_ext --inplace"
   ]
  },
  {
   "cell_type": "code",
   "execution_count": 131,
   "metadata": {},
   "outputs": [
    {
     "ename": "ModuleNotFoundError",
     "evalue": "No module named 'example_cy.example_cy'",
     "output_type": "error",
     "traceback": [
      "\u001b[1;31m---------------------------------------------------------------------------\u001b[0m",
      "\u001b[1;31mModuleNotFoundError\u001b[0m                       Traceback (most recent call last)",
      "\u001b[1;32m~\\AppData\\Local\\Temp\\ipykernel_16264\\346296195.py\u001b[0m in \u001b[0;36m<cell line: 1>\u001b[1;34m()\u001b[0m\n\u001b[1;32m----> 1\u001b[1;33m \u001b[1;32mimport\u001b[0m \u001b[0mexample_cy\u001b[0m\u001b[1;33m.\u001b[0m\u001b[0mexample_cy\u001b[0m\u001b[1;33m.\u001b[0m\u001b[0mhelloworld\u001b[0m \u001b[1;32mas\u001b[0m \u001b[0mtoy\u001b[0m\u001b[1;33m\u001b[0m\u001b[1;33m\u001b[0m\u001b[0m\n\u001b[0m\u001b[0;32m      2\u001b[0m \u001b[1;33m\u001b[0m\u001b[0m\n\u001b[0;32m      3\u001b[0m \u001b[0mtoy\u001b[0m\u001b[1;33m.\u001b[0m\u001b[0mprinthello\u001b[0m\u001b[1;33m(\u001b[0m\u001b[1;33m)\u001b[0m\u001b[1;33m\u001b[0m\u001b[1;33m\u001b[0m\u001b[0m\n",
      "\u001b[1;31mModuleNotFoundError\u001b[0m: No module named 'example_cy.example_cy'"
     ]
    }
   ],
   "source": [
    "import example_cy.example_cy.helloworld as toy\n",
    "\n",
    "toy.printhello()"
   ]
  },
  {
   "cell_type": "markdown",
   "metadata": {},
   "source": [
    "which should display\n",
    "```python\n",
    "Hello World\n",
    "```"
   ]
  },
  {
   "cell_type": "markdown",
   "metadata": {},
   "source": [
    "> Warning: \n",
    "> - do not forget to include an empty `__init__.py` file in the directory where your source code lives (`import` will fail if this is not the case).\n",
    "> - in case you have any setup issue, take a look at the `notes.md` file.\n",
    "> - if the C code and/or the executable do not seem to be regenerated by the build instructions, delete the C code and the executable first, and re-execute the compilation afterwards.\n",
    "> - do not hesitate to restart the Python kernel if necessary when the Cython executable has been re-generated."
   ]
  },
  {
   "cell_type": "markdown",
   "metadata": {},
   "source": [
    "2\\. Read the [Numpy/Cython tutorial](https://cython.readthedocs.io/en/latest/src/userguide/numpy_tutorial.html#numpy-tutorial), focussing on the paragraphs **Cython at a glance**, and **Your Cython environment** until **\"More generic code\"**. An example to compile a `.pyx` file depending on `numpy` is included in `example_np_cy/`."
   ]
  },
  {
   "cell_type": "markdown",
   "metadata": {},
   "source": [
    "> Remarks: \n",
    "> - the `annotate=True` flag in the `setup.py` allows an additional `.html` document to be generated (`<your_module_name>.html`), showing, for each line of the Cython code, the associated C instructions generated. Highlighted in yellow are the interactions with Python: the darker a region appears, the less efficient the generated C code is for this section. Work in priority on these! \n",
    "> - make sure all the previously generated files are deleted to allow the .html report to be generated;\n",
    "> - if you are working on your own machine and don't have a C/C++ compiler installed, read the notes provided in `notes.md`;\n",
    "> - use `cdef` for pure C functions (not exported to Python), `cpdef` should be favored for functions containing C instructions and later called from Python."
   ]
  },
  {
   "cell_type": "markdown",
   "metadata": {},
   "source": [
    "**Answer:**"
   ]
  },
  {
   "cell_type": "code",
   "execution_count": null,
   "metadata": {},
   "outputs": [],
   "source": [
    "# your code"
   ]
  },
  {
   "cell_type": "markdown",
   "metadata": {},
   "source": [
    "3\\. Use Cython to implement a faster version of the numpy K-NN classifier implemented in [Exercise 1](#ex1). To do so, apply step-by-step the techniques introduced in the [Numpy/Cython tutorial](https://cython.readthedocs.io/en/latest/src/userguide/numpy_tutorial.html#numpy-tutorial) (*i.e.*, compile and time your code after each step to report the evolution, keeping track of the different versions of the cython function).\n",
    "\n",
    "> Hint: if you keep numpy arrays, make sure you use memory views (see numpy/cython tutorial) to access the elements within it. Be extremely careful with the type of the input arrays (you may need to recast the format of the input elements before entering the function. The `numpy.asarray` function can prove useful).\n",
    "\n",
    "> **Detailed guidelines**: a few notes and *caveat* to help you re-writing your code in cython:\n",
    "> - try to reduce the number of calls to numpy instructions as much as possible;\n",
    "> - **you do not have to optimize everything**. For the KNN function above, most of the time is spent in computing euclidean distances: you can thus focus on optimizing tihs operations by explicitly writing a for loop, which will ensure a minimal interaction with numpy when generating the associated C code at compilation. Calls to other numpy functions can be kept as-is;\n",
    "> - if you need to create an array within the cython function, used np.zeros (**do NOT use python lists**), and use a memory view to access its content;\n",
    "> - specify the type for all variables and numpy arrays. Pay attention to the type of the input arrays passed to the Cython function;\n",
    "> - whenever an array is returned, use memory views and index(es) to efficiently access its content;\n",
    "> - some numpy operators (e.g., broadcasting mechanism) do not work with memory views. In this case, you can directly write for loop(s) to encode the operation of interest (the loops will be optimized out at compile time);\n",
    "> - only use at the final development stage the following cython optimization (not before, as they can crash the program without any help):\n",
    ">\n",
    ">```python\n",
    ">@cython.boundscheck(False)\n",
    ">@cython.wraparound(False)\n",
    ">```"
   ]
  },
  {
   "cell_type": "markdown",
   "metadata": {},
   "source": [
    "**Answer:**"
   ]
  },
  {
   "cell_type": "code",
   "execution_count": null,
   "metadata": {},
   "outputs": [],
   "source": [
    "# your code"
   ]
  },
  {
   "cell_type": "markdown",
   "metadata": {},
   "source": [
    "4\\. Compare the runtime of the two algorithms (using `timeit.timeit`), and conclude about the interest of using cython in this case."
   ]
  },
  {
   "cell_type": "markdown",
   "metadata": {},
   "source": [
    "**Answer:**"
   ]
  },
  {
   "cell_type": "code",
   "execution_count": null,
   "metadata": {},
   "outputs": [],
   "source": [
    "# your code"
   ]
  },
  {
   "cell_type": "markdown",
   "metadata": {},
   "source": [
    "## <a name=\"ex3\">Exercise 3: Code acceleration with numba</a> [(&#8593;)](#content)\n",
    "\n",
    "`numba` is a just-in-time (JIT) compiler which translates Python codes into efficient machine code at runtime. A significant acceleration can be obtained by adding a few simple decorators to a standard Python function, up to a few restrictions detailed [here](http://numba.pydata.org/numba-doc/latest/user/performance-tips.html).\n",
    "\n",
    "If you have written most of the KNN classifier of exercise 1 with numpy, there is little to no chance that you will get an acceleration with numba (justifying the use of cython in this case). An interesting acceleration factor can however be obtained for the computation of the total variation investigated in session 2."
   ]
  },
  {
   "cell_type": "markdown",
   "metadata": {},
   "source": [
    "1\\. Take a look at the [numba 5 min tour](http://numba.pydata.org/numba-doc/latest/user/5minguide.html), and accelerate the total variation code from session 2 with the `@jit` decorator. You may have to rewrite small portions of your code to get the expected acceleration (see [performance tips](http://numba.pydata.org/numba-doc/latest/user/performance-tips.html))."
   ]
  },
  {
   "cell_type": "markdown",
   "metadata": {},
   "source": [
    "**Answer:**"
   ]
  },
  {
   "cell_type": "code",
   "execution_count": null,
   "metadata": {},
   "outputs": [],
   "source": [
    "# your code"
   ]
  },
  {
   "cell_type": "markdown",
   "metadata": {},
   "source": [
    "2\\. Compare the runtime of the your numpy implementation and the `numba`-accelerated version (using `timeit.timeit`). \n",
    "> **Warning**: first run the numba version once to trigger the compilation, and then time it as usual. This is needed to avoid including the JIT compilation step in the runtime."
   ]
  },
  {
   "cell_type": "markdown",
   "metadata": {},
   "source": [
    "**Answer:**"
   ]
  },
  {
   "cell_type": "code",
   "execution_count": null,
   "metadata": {},
   "outputs": [],
   "source": [
    "# your code"
   ]
  }
 ],
 "metadata": {
  "file_extension": ".py",
  "kernelspec": {
   "display_name": "Python 3 (ipykernel)",
   "language": "python",
   "name": "python3"
  },
  "language_info": {
   "codemirror_mode": {
    "name": "ipython",
    "version": 3
   },
   "file_extension": ".py",
   "mimetype": "text/x-python",
   "name": "python",
   "nbconvert_exporter": "python",
   "pygments_lexer": "ipython3",
   "version": "3.9.13"
  },
  "mimetype": "text/x-python",
  "name": "python",
  "npconvert_exporter": "python",
  "pygments_lexer": "ipython3",
  "version": 3,
  "vscode": {
   "interpreter": {
    "hash": "916dbcbb3f70747c44a77c7bcd40155683ae19c65e1c03b4aa3499c5328201f1"
   }
  }
 },
 "nbformat": 4,
 "nbformat_minor": 4
}
